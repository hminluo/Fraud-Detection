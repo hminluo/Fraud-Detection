{
 "cells": [
  {
   "cell_type": "markdown",
   "metadata": {},
   "source": [
    "### Introduction\n",
    "\n",
    "Credit card transaction has been the primary form of payment for many consumers. Being able to detect and stop a fraudulent transaction is important to the cardholder’s security and the credit card company’s accountability. \n",
    "\n",
    "In fitting a fraud detection model, the nature of imbalance in the number of fraudulent versus normal transactions in the training data needs to be dealt with carefully in pre-processing the data.\n",
    "In this project, xgboost models were used to predict whether a credit card transaction is fraudulent using a dataset containing transaction information. \n",
    "\n",
    "Re-balancing methods like random under-sampling, SMOTE, and cost-sensitive learning were used to balance the number of observations in each class. A grid search cross validation approach was used to determine the optimal values for the hyperparameters of interest.\n",
    "\n",
    "The dataset used in this project was originally collected and analyzed in a collaborative research of Worldline and the Machine Learning Group of ULB (Université Libre de Bruxelles). It’s currently hosted on Kaggle."
   ]
  },
  {
   "cell_type": "markdown",
   "metadata": {
    "colab_type": "text",
    "id": "Yba6xjSRyH7J"
   },
   "source": [
    "### Setup\n",
    "(Note: this project was originally done in Google Colab)"
   ]
  },
  {
   "cell_type": "code",
   "execution_count": 0,
   "metadata": {
    "colab": {
     "base_uri": "https://localhost:8080/",
     "height": 131
    },
    "colab_type": "code",
    "collapsed": true,
    "id": "jWwzF4zDx5tp",
    "outputId": "32ee3177-9bdc-4a39-b17a-d12dd08ead54"
   },
   "outputs": [
    {
     "name": "stdout",
     "output_type": "stream",
     "text": [
      "Go to this URL in a browser: https://accounts.google.com/o/oauth2/auth?client_id=947318989803-6bn6qk8qdgf4n4g3pfee6491hc0brc4i.apps.googleusercontent.com&redirect_uri=urn%3aietf%3awg%3aoauth%3a2.0%3aoob&response_type=code&scope=email%20https%3a%2f%2fwww.googleapis.com%2fauth%2fdocs.test%20https%3a%2f%2fwww.googleapis.com%2fauth%2fdrive%20https%3a%2f%2fwww.googleapis.com%2fauth%2fdrive.photos.readonly%20https%3a%2f%2fwww.googleapis.com%2fauth%2fpeopleapi.readonly\n",
      "\n",
      "Enter your authorization code:\n",
      "··········\n",
      "Mounted at /content/drive\n"
     ]
    }
   ],
   "source": [
    "from google.colab import drive\n",
    "drive.mount('/content/drive')"
   ]
  },
  {
   "cell_type": "code",
   "execution_count": 0,
   "metadata": {
    "colab": {},
    "colab_type": "code",
    "id": "haImPQe9yAwr"
   },
   "outputs": [],
   "source": [
    "import pandas as pd\n",
    "import numpy as np\n",
    "import matplotlib.pyplot as plt\n",
    "import seaborn as sns"
   ]
  },
  {
   "cell_type": "code",
   "execution_count": 0,
   "metadata": {
    "colab": {},
    "colab_type": "code",
    "id": "w0lfN8LLyLoS"
   },
   "outputs": [],
   "source": [
    "df = pd.read_csv('/content/drive/My Drive/Data Mining 1/creditcard.csv')"
   ]
  },
  {
   "cell_type": "markdown",
   "metadata": {
    "colab_type": "text",
    "id": "rcPdhEAY1Rcm"
   },
   "source": [
    "### EDA"
   ]
  },
  {
   "cell_type": "markdown",
   "metadata": {
    "colab_type": "text",
    "id": "g9jfv0ReTyuU"
   },
   "source": [
    "The dataset contains two days of credit card transactions made in September 2013 by European cardholders. There are 284,807 observations, and 30 predictor features, where each observation is a transaction made. Of the 30 predictors, 28 of them, “V1” to “V28”, are the result of a principal component analysis (PCA) transformation. This was done to protect the cardholders’ confidentiality, and no additional information was provided regarding to those variables. This limits the ability to perform feature engineering using domain knowledge.\n"
   ]
  },
  {
   "cell_type": "markdown",
   "metadata": {},
   "source": [
    "The definition of each variable is shown below.\n",
    "<table>\n",
    "<tr>\n",
    "<th>Variable</th>\n",
    "<th>Type</th>\n",
    "<th>Description</th>\n",
    "</tr> \n",
    "\n",
    "<tr>\n",
    "<td>Class</td>\n",
    "<td>Categorical</td>\n",
    "<td>Target Variable. 1 = fraudulent transaction,  0 = non-fraudulent transaction</td>\n",
    "</tr>\n",
    "\n",
    "<tr>\n",
    "<td>V1 to V28</td>\n",
    "<td>Numerical</td>\n",
    "<td>Credit card transaction information resulted from a PCA transformation  </td>\n",
    "</tr>\n",
    "\n",
    "<tr>\n",
    "<td>Time</td>\n",
    "<td>Numerical</td>\n",
    "<td>Number of seconds elapsed between this transaction and the first transaction in the dataset </td>\n",
    "</tr>\n",
    "\n",
    "<tr>\n",
    "<td>Amount</td>\n",
    "<td>Numerical</td>\n",
    "<td>Transaction amount </td>\n",
    "</tr>\n",
    "</table>\n"
   ]
  },
  {
   "cell_type": "code",
   "execution_count": 0,
   "metadata": {
    "colab": {
     "base_uri": "https://localhost:8080/",
     "height": 226
    },
    "colab_type": "code",
    "id": "jHCMRkqiyYuZ",
    "outputId": "79ea3b29-3a5b-4cce-f3a1-5a0b78df0c99"
   },
   "outputs": [
    {
     "data": {
      "text/html": [
       "<div>\n",
       "<style scoped>\n",
       "    .dataframe tbody tr th:only-of-type {\n",
       "        vertical-align: middle;\n",
       "    }\n",
       "\n",
       "    .dataframe tbody tr th {\n",
       "        vertical-align: top;\n",
       "    }\n",
       "\n",
       "    .dataframe thead th {\n",
       "        text-align: right;\n",
       "    }\n",
       "</style>\n",
       "<table border=\"1\" class=\"dataframe\">\n",
       "  <thead>\n",
       "    <tr style=\"text-align: right;\">\n",
       "      <th></th>\n",
       "      <th>Time</th>\n",
       "      <th>V1</th>\n",
       "      <th>V2</th>\n",
       "      <th>V3</th>\n",
       "      <th>V4</th>\n",
       "      <th>V5</th>\n",
       "      <th>V6</th>\n",
       "      <th>V7</th>\n",
       "      <th>V8</th>\n",
       "      <th>V9</th>\n",
       "      <th>V10</th>\n",
       "      <th>V11</th>\n",
       "      <th>V12</th>\n",
       "      <th>V13</th>\n",
       "      <th>V14</th>\n",
       "      <th>V15</th>\n",
       "      <th>V16</th>\n",
       "      <th>V17</th>\n",
       "      <th>V18</th>\n",
       "      <th>V19</th>\n",
       "      <th>V20</th>\n",
       "      <th>V21</th>\n",
       "      <th>V22</th>\n",
       "      <th>V23</th>\n",
       "      <th>V24</th>\n",
       "      <th>V25</th>\n",
       "      <th>V26</th>\n",
       "      <th>V27</th>\n",
       "      <th>V28</th>\n",
       "      <th>Amount</th>\n",
       "      <th>Class</th>\n",
       "    </tr>\n",
       "  </thead>\n",
       "  <tbody>\n",
       "    <tr>\n",
       "      <th>0</th>\n",
       "      <td>0.0</td>\n",
       "      <td>-1.359807</td>\n",
       "      <td>-0.072781</td>\n",
       "      <td>2.536347</td>\n",
       "      <td>1.378155</td>\n",
       "      <td>-0.338321</td>\n",
       "      <td>0.462388</td>\n",
       "      <td>0.239599</td>\n",
       "      <td>0.098698</td>\n",
       "      <td>0.363787</td>\n",
       "      <td>0.090794</td>\n",
       "      <td>-0.551600</td>\n",
       "      <td>-0.617801</td>\n",
       "      <td>-0.991390</td>\n",
       "      <td>-0.311169</td>\n",
       "      <td>1.468177</td>\n",
       "      <td>-0.470401</td>\n",
       "      <td>0.207971</td>\n",
       "      <td>0.025791</td>\n",
       "      <td>0.403993</td>\n",
       "      <td>0.251412</td>\n",
       "      <td>-0.018307</td>\n",
       "      <td>0.277838</td>\n",
       "      <td>-0.110474</td>\n",
       "      <td>0.066928</td>\n",
       "      <td>0.128539</td>\n",
       "      <td>-0.189115</td>\n",
       "      <td>0.133558</td>\n",
       "      <td>-0.021053</td>\n",
       "      <td>149.62</td>\n",
       "      <td>0</td>\n",
       "    </tr>\n",
       "    <tr>\n",
       "      <th>1</th>\n",
       "      <td>0.0</td>\n",
       "      <td>1.191857</td>\n",
       "      <td>0.266151</td>\n",
       "      <td>0.166480</td>\n",
       "      <td>0.448154</td>\n",
       "      <td>0.060018</td>\n",
       "      <td>-0.082361</td>\n",
       "      <td>-0.078803</td>\n",
       "      <td>0.085102</td>\n",
       "      <td>-0.255425</td>\n",
       "      <td>-0.166974</td>\n",
       "      <td>1.612727</td>\n",
       "      <td>1.065235</td>\n",
       "      <td>0.489095</td>\n",
       "      <td>-0.143772</td>\n",
       "      <td>0.635558</td>\n",
       "      <td>0.463917</td>\n",
       "      <td>-0.114805</td>\n",
       "      <td>-0.183361</td>\n",
       "      <td>-0.145783</td>\n",
       "      <td>-0.069083</td>\n",
       "      <td>-0.225775</td>\n",
       "      <td>-0.638672</td>\n",
       "      <td>0.101288</td>\n",
       "      <td>-0.339846</td>\n",
       "      <td>0.167170</td>\n",
       "      <td>0.125895</td>\n",
       "      <td>-0.008983</td>\n",
       "      <td>0.014724</td>\n",
       "      <td>2.69</td>\n",
       "      <td>0</td>\n",
       "    </tr>\n",
       "    <tr>\n",
       "      <th>2</th>\n",
       "      <td>1.0</td>\n",
       "      <td>-1.358354</td>\n",
       "      <td>-1.340163</td>\n",
       "      <td>1.773209</td>\n",
       "      <td>0.379780</td>\n",
       "      <td>-0.503198</td>\n",
       "      <td>1.800499</td>\n",
       "      <td>0.791461</td>\n",
       "      <td>0.247676</td>\n",
       "      <td>-1.514654</td>\n",
       "      <td>0.207643</td>\n",
       "      <td>0.624501</td>\n",
       "      <td>0.066084</td>\n",
       "      <td>0.717293</td>\n",
       "      <td>-0.165946</td>\n",
       "      <td>2.345865</td>\n",
       "      <td>-2.890083</td>\n",
       "      <td>1.109969</td>\n",
       "      <td>-0.121359</td>\n",
       "      <td>-2.261857</td>\n",
       "      <td>0.524980</td>\n",
       "      <td>0.247998</td>\n",
       "      <td>0.771679</td>\n",
       "      <td>0.909412</td>\n",
       "      <td>-0.689281</td>\n",
       "      <td>-0.327642</td>\n",
       "      <td>-0.139097</td>\n",
       "      <td>-0.055353</td>\n",
       "      <td>-0.059752</td>\n",
       "      <td>378.66</td>\n",
       "      <td>0</td>\n",
       "    </tr>\n",
       "    <tr>\n",
       "      <th>3</th>\n",
       "      <td>1.0</td>\n",
       "      <td>-0.966272</td>\n",
       "      <td>-0.185226</td>\n",
       "      <td>1.792993</td>\n",
       "      <td>-0.863291</td>\n",
       "      <td>-0.010309</td>\n",
       "      <td>1.247203</td>\n",
       "      <td>0.237609</td>\n",
       "      <td>0.377436</td>\n",
       "      <td>-1.387024</td>\n",
       "      <td>-0.054952</td>\n",
       "      <td>-0.226487</td>\n",
       "      <td>0.178228</td>\n",
       "      <td>0.507757</td>\n",
       "      <td>-0.287924</td>\n",
       "      <td>-0.631418</td>\n",
       "      <td>-1.059647</td>\n",
       "      <td>-0.684093</td>\n",
       "      <td>1.965775</td>\n",
       "      <td>-1.232622</td>\n",
       "      <td>-0.208038</td>\n",
       "      <td>-0.108300</td>\n",
       "      <td>0.005274</td>\n",
       "      <td>-0.190321</td>\n",
       "      <td>-1.175575</td>\n",
       "      <td>0.647376</td>\n",
       "      <td>-0.221929</td>\n",
       "      <td>0.062723</td>\n",
       "      <td>0.061458</td>\n",
       "      <td>123.50</td>\n",
       "      <td>0</td>\n",
       "    </tr>\n",
       "    <tr>\n",
       "      <th>4</th>\n",
       "      <td>2.0</td>\n",
       "      <td>-1.158233</td>\n",
       "      <td>0.877737</td>\n",
       "      <td>1.548718</td>\n",
       "      <td>0.403034</td>\n",
       "      <td>-0.407193</td>\n",
       "      <td>0.095921</td>\n",
       "      <td>0.592941</td>\n",
       "      <td>-0.270533</td>\n",
       "      <td>0.817739</td>\n",
       "      <td>0.753074</td>\n",
       "      <td>-0.822843</td>\n",
       "      <td>0.538196</td>\n",
       "      <td>1.345852</td>\n",
       "      <td>-1.119670</td>\n",
       "      <td>0.175121</td>\n",
       "      <td>-0.451449</td>\n",
       "      <td>-0.237033</td>\n",
       "      <td>-0.038195</td>\n",
       "      <td>0.803487</td>\n",
       "      <td>0.408542</td>\n",
       "      <td>-0.009431</td>\n",
       "      <td>0.798278</td>\n",
       "      <td>-0.137458</td>\n",
       "      <td>0.141267</td>\n",
       "      <td>-0.206010</td>\n",
       "      <td>0.502292</td>\n",
       "      <td>0.219422</td>\n",
       "      <td>0.215153</td>\n",
       "      <td>69.99</td>\n",
       "      <td>0</td>\n",
       "    </tr>\n",
       "  </tbody>\n",
       "</table>\n",
       "</div>"
      ],
      "text/plain": [
       "   Time        V1        V2        V3  ...       V27       V28  Amount  Class\n",
       "0   0.0 -1.359807 -0.072781  2.536347  ...  0.133558 -0.021053  149.62      0\n",
       "1   0.0  1.191857  0.266151  0.166480  ... -0.008983  0.014724    2.69      0\n",
       "2   1.0 -1.358354 -1.340163  1.773209  ... -0.055353 -0.059752  378.66      0\n",
       "3   1.0 -0.966272 -0.185226  1.792993  ...  0.062723  0.061458  123.50      0\n",
       "4   2.0 -1.158233  0.877737  1.548718  ...  0.219422  0.215153   69.99      0\n",
       "\n",
       "[5 rows x 31 columns]"
      ]
     },
     "execution_count": 4,
     "metadata": {
      "tags": []
     },
     "output_type": "execute_result"
    }
   ],
   "source": [
    "df.head()"
   ]
  },
  {
   "cell_type": "code",
   "execution_count": 0,
   "metadata": {
    "colab": {
     "base_uri": "https://localhost:8080/",
     "height": 36
    },
    "colab_type": "code",
    "id": "m3smlX5d1Pd1",
    "outputId": "a0f59b7d-5891-4ff8-fd2b-939814fd2152"
   },
   "outputs": [
    {
     "data": {
      "text/plain": [
       "(284807, 31)"
      ]
     },
     "execution_count": 4,
     "metadata": {
      "tags": []
     },
     "output_type": "execute_result"
    }
   ],
   "source": [
    "r, c = df.shape\n",
    "df.shape"
   ]
  },
  {
   "cell_type": "code",
   "execution_count": 0,
   "metadata": {
    "colab": {
     "base_uri": "https://localhost:8080/",
     "height": 320
    },
    "colab_type": "code",
    "id": "H0ISdB2D1Xap",
    "outputId": "5dcc3185-24e9-439d-d1f5-27090ed02348"
   },
   "outputs": [
    {
     "data": {
      "text/html": [
       "<div>\n",
       "<style scoped>\n",
       "    .dataframe tbody tr th:only-of-type {\n",
       "        vertical-align: middle;\n",
       "    }\n",
       "\n",
       "    .dataframe tbody tr th {\n",
       "        vertical-align: top;\n",
       "    }\n",
       "\n",
       "    .dataframe thead th {\n",
       "        text-align: right;\n",
       "    }\n",
       "</style>\n",
       "<table border=\"1\" class=\"dataframe\">\n",
       "  <thead>\n",
       "    <tr style=\"text-align: right;\">\n",
       "      <th></th>\n",
       "      <th>Time</th>\n",
       "      <th>V1</th>\n",
       "      <th>V2</th>\n",
       "      <th>V3</th>\n",
       "      <th>V4</th>\n",
       "      <th>V5</th>\n",
       "      <th>V6</th>\n",
       "      <th>V7</th>\n",
       "      <th>V8</th>\n",
       "      <th>V9</th>\n",
       "      <th>V10</th>\n",
       "      <th>V11</th>\n",
       "      <th>V12</th>\n",
       "      <th>V13</th>\n",
       "      <th>V14</th>\n",
       "      <th>V15</th>\n",
       "      <th>V16</th>\n",
       "      <th>V17</th>\n",
       "      <th>V18</th>\n",
       "      <th>V19</th>\n",
       "      <th>V20</th>\n",
       "      <th>V21</th>\n",
       "      <th>V22</th>\n",
       "      <th>V23</th>\n",
       "      <th>V24</th>\n",
       "      <th>V25</th>\n",
       "      <th>V26</th>\n",
       "      <th>V27</th>\n",
       "      <th>V28</th>\n",
       "      <th>Amount</th>\n",
       "      <th>Class</th>\n",
       "    </tr>\n",
       "  </thead>\n",
       "  <tbody>\n",
       "    <tr>\n",
       "      <th>count</th>\n",
       "      <td>284807.000000</td>\n",
       "      <td>2.848070e+05</td>\n",
       "      <td>2.848070e+05</td>\n",
       "      <td>2.848070e+05</td>\n",
       "      <td>2.848070e+05</td>\n",
       "      <td>2.848070e+05</td>\n",
       "      <td>2.848070e+05</td>\n",
       "      <td>2.848070e+05</td>\n",
       "      <td>2.848070e+05</td>\n",
       "      <td>2.848070e+05</td>\n",
       "      <td>2.848070e+05</td>\n",
       "      <td>2.848070e+05</td>\n",
       "      <td>2.848070e+05</td>\n",
       "      <td>2.848070e+05</td>\n",
       "      <td>2.848070e+05</td>\n",
       "      <td>2.848070e+05</td>\n",
       "      <td>2.848070e+05</td>\n",
       "      <td>2.848070e+05</td>\n",
       "      <td>2.848070e+05</td>\n",
       "      <td>2.848070e+05</td>\n",
       "      <td>2.848070e+05</td>\n",
       "      <td>2.848070e+05</td>\n",
       "      <td>2.848070e+05</td>\n",
       "      <td>2.848070e+05</td>\n",
       "      <td>2.848070e+05</td>\n",
       "      <td>2.848070e+05</td>\n",
       "      <td>2.848070e+05</td>\n",
       "      <td>2.848070e+05</td>\n",
       "      <td>2.848070e+05</td>\n",
       "      <td>284807.000000</td>\n",
       "      <td>284807.000000</td>\n",
       "    </tr>\n",
       "    <tr>\n",
       "      <th>mean</th>\n",
       "      <td>94813.859575</td>\n",
       "      <td>3.919560e-15</td>\n",
       "      <td>5.688174e-16</td>\n",
       "      <td>-8.769071e-15</td>\n",
       "      <td>2.782312e-15</td>\n",
       "      <td>-1.552563e-15</td>\n",
       "      <td>2.010663e-15</td>\n",
       "      <td>-1.694249e-15</td>\n",
       "      <td>-1.927028e-16</td>\n",
       "      <td>-3.137024e-15</td>\n",
       "      <td>1.768627e-15</td>\n",
       "      <td>9.170318e-16</td>\n",
       "      <td>-1.810658e-15</td>\n",
       "      <td>1.693438e-15</td>\n",
       "      <td>1.479045e-15</td>\n",
       "      <td>3.482336e-15</td>\n",
       "      <td>1.392007e-15</td>\n",
       "      <td>-7.528491e-16</td>\n",
       "      <td>4.328772e-16</td>\n",
       "      <td>9.049732e-16</td>\n",
       "      <td>5.085503e-16</td>\n",
       "      <td>1.537294e-16</td>\n",
       "      <td>7.959909e-16</td>\n",
       "      <td>5.367590e-16</td>\n",
       "      <td>4.458112e-15</td>\n",
       "      <td>1.453003e-15</td>\n",
       "      <td>1.699104e-15</td>\n",
       "      <td>-3.660161e-16</td>\n",
       "      <td>-1.206049e-16</td>\n",
       "      <td>88.349619</td>\n",
       "      <td>0.001727</td>\n",
       "    </tr>\n",
       "    <tr>\n",
       "      <th>std</th>\n",
       "      <td>47488.145955</td>\n",
       "      <td>1.958696e+00</td>\n",
       "      <td>1.651309e+00</td>\n",
       "      <td>1.516255e+00</td>\n",
       "      <td>1.415869e+00</td>\n",
       "      <td>1.380247e+00</td>\n",
       "      <td>1.332271e+00</td>\n",
       "      <td>1.237094e+00</td>\n",
       "      <td>1.194353e+00</td>\n",
       "      <td>1.098632e+00</td>\n",
       "      <td>1.088850e+00</td>\n",
       "      <td>1.020713e+00</td>\n",
       "      <td>9.992014e-01</td>\n",
       "      <td>9.952742e-01</td>\n",
       "      <td>9.585956e-01</td>\n",
       "      <td>9.153160e-01</td>\n",
       "      <td>8.762529e-01</td>\n",
       "      <td>8.493371e-01</td>\n",
       "      <td>8.381762e-01</td>\n",
       "      <td>8.140405e-01</td>\n",
       "      <td>7.709250e-01</td>\n",
       "      <td>7.345240e-01</td>\n",
       "      <td>7.257016e-01</td>\n",
       "      <td>6.244603e-01</td>\n",
       "      <td>6.056471e-01</td>\n",
       "      <td>5.212781e-01</td>\n",
       "      <td>4.822270e-01</td>\n",
       "      <td>4.036325e-01</td>\n",
       "      <td>3.300833e-01</td>\n",
       "      <td>250.120109</td>\n",
       "      <td>0.041527</td>\n",
       "    </tr>\n",
       "    <tr>\n",
       "      <th>min</th>\n",
       "      <td>0.000000</td>\n",
       "      <td>-5.640751e+01</td>\n",
       "      <td>-7.271573e+01</td>\n",
       "      <td>-4.832559e+01</td>\n",
       "      <td>-5.683171e+00</td>\n",
       "      <td>-1.137433e+02</td>\n",
       "      <td>-2.616051e+01</td>\n",
       "      <td>-4.355724e+01</td>\n",
       "      <td>-7.321672e+01</td>\n",
       "      <td>-1.343407e+01</td>\n",
       "      <td>-2.458826e+01</td>\n",
       "      <td>-4.797473e+00</td>\n",
       "      <td>-1.868371e+01</td>\n",
       "      <td>-5.791881e+00</td>\n",
       "      <td>-1.921433e+01</td>\n",
       "      <td>-4.498945e+00</td>\n",
       "      <td>-1.412985e+01</td>\n",
       "      <td>-2.516280e+01</td>\n",
       "      <td>-9.498746e+00</td>\n",
       "      <td>-7.213527e+00</td>\n",
       "      <td>-5.449772e+01</td>\n",
       "      <td>-3.483038e+01</td>\n",
       "      <td>-1.093314e+01</td>\n",
       "      <td>-4.480774e+01</td>\n",
       "      <td>-2.836627e+00</td>\n",
       "      <td>-1.029540e+01</td>\n",
       "      <td>-2.604551e+00</td>\n",
       "      <td>-2.256568e+01</td>\n",
       "      <td>-1.543008e+01</td>\n",
       "      <td>0.000000</td>\n",
       "      <td>0.000000</td>\n",
       "    </tr>\n",
       "    <tr>\n",
       "      <th>25%</th>\n",
       "      <td>54201.500000</td>\n",
       "      <td>-9.203734e-01</td>\n",
       "      <td>-5.985499e-01</td>\n",
       "      <td>-8.903648e-01</td>\n",
       "      <td>-8.486401e-01</td>\n",
       "      <td>-6.915971e-01</td>\n",
       "      <td>-7.682956e-01</td>\n",
       "      <td>-5.540759e-01</td>\n",
       "      <td>-2.086297e-01</td>\n",
       "      <td>-6.430976e-01</td>\n",
       "      <td>-5.354257e-01</td>\n",
       "      <td>-7.624942e-01</td>\n",
       "      <td>-4.055715e-01</td>\n",
       "      <td>-6.485393e-01</td>\n",
       "      <td>-4.255740e-01</td>\n",
       "      <td>-5.828843e-01</td>\n",
       "      <td>-4.680368e-01</td>\n",
       "      <td>-4.837483e-01</td>\n",
       "      <td>-4.988498e-01</td>\n",
       "      <td>-4.562989e-01</td>\n",
       "      <td>-2.117214e-01</td>\n",
       "      <td>-2.283949e-01</td>\n",
       "      <td>-5.423504e-01</td>\n",
       "      <td>-1.618463e-01</td>\n",
       "      <td>-3.545861e-01</td>\n",
       "      <td>-3.171451e-01</td>\n",
       "      <td>-3.269839e-01</td>\n",
       "      <td>-7.083953e-02</td>\n",
       "      <td>-5.295979e-02</td>\n",
       "      <td>5.600000</td>\n",
       "      <td>0.000000</td>\n",
       "    </tr>\n",
       "    <tr>\n",
       "      <th>50%</th>\n",
       "      <td>84692.000000</td>\n",
       "      <td>1.810880e-02</td>\n",
       "      <td>6.548556e-02</td>\n",
       "      <td>1.798463e-01</td>\n",
       "      <td>-1.984653e-02</td>\n",
       "      <td>-5.433583e-02</td>\n",
       "      <td>-2.741871e-01</td>\n",
       "      <td>4.010308e-02</td>\n",
       "      <td>2.235804e-02</td>\n",
       "      <td>-5.142873e-02</td>\n",
       "      <td>-9.291738e-02</td>\n",
       "      <td>-3.275735e-02</td>\n",
       "      <td>1.400326e-01</td>\n",
       "      <td>-1.356806e-02</td>\n",
       "      <td>5.060132e-02</td>\n",
       "      <td>4.807155e-02</td>\n",
       "      <td>6.641332e-02</td>\n",
       "      <td>-6.567575e-02</td>\n",
       "      <td>-3.636312e-03</td>\n",
       "      <td>3.734823e-03</td>\n",
       "      <td>-6.248109e-02</td>\n",
       "      <td>-2.945017e-02</td>\n",
       "      <td>6.781943e-03</td>\n",
       "      <td>-1.119293e-02</td>\n",
       "      <td>4.097606e-02</td>\n",
       "      <td>1.659350e-02</td>\n",
       "      <td>-5.213911e-02</td>\n",
       "      <td>1.342146e-03</td>\n",
       "      <td>1.124383e-02</td>\n",
       "      <td>22.000000</td>\n",
       "      <td>0.000000</td>\n",
       "    </tr>\n",
       "    <tr>\n",
       "      <th>75%</th>\n",
       "      <td>139320.500000</td>\n",
       "      <td>1.315642e+00</td>\n",
       "      <td>8.037239e-01</td>\n",
       "      <td>1.027196e+00</td>\n",
       "      <td>7.433413e-01</td>\n",
       "      <td>6.119264e-01</td>\n",
       "      <td>3.985649e-01</td>\n",
       "      <td>5.704361e-01</td>\n",
       "      <td>3.273459e-01</td>\n",
       "      <td>5.971390e-01</td>\n",
       "      <td>4.539234e-01</td>\n",
       "      <td>7.395934e-01</td>\n",
       "      <td>6.182380e-01</td>\n",
       "      <td>6.625050e-01</td>\n",
       "      <td>4.931498e-01</td>\n",
       "      <td>6.488208e-01</td>\n",
       "      <td>5.232963e-01</td>\n",
       "      <td>3.996750e-01</td>\n",
       "      <td>5.008067e-01</td>\n",
       "      <td>4.589494e-01</td>\n",
       "      <td>1.330408e-01</td>\n",
       "      <td>1.863772e-01</td>\n",
       "      <td>5.285536e-01</td>\n",
       "      <td>1.476421e-01</td>\n",
       "      <td>4.395266e-01</td>\n",
       "      <td>3.507156e-01</td>\n",
       "      <td>2.409522e-01</td>\n",
       "      <td>9.104512e-02</td>\n",
       "      <td>7.827995e-02</td>\n",
       "      <td>77.165000</td>\n",
       "      <td>0.000000</td>\n",
       "    </tr>\n",
       "    <tr>\n",
       "      <th>max</th>\n",
       "      <td>172792.000000</td>\n",
       "      <td>2.454930e+00</td>\n",
       "      <td>2.205773e+01</td>\n",
       "      <td>9.382558e+00</td>\n",
       "      <td>1.687534e+01</td>\n",
       "      <td>3.480167e+01</td>\n",
       "      <td>7.330163e+01</td>\n",
       "      <td>1.205895e+02</td>\n",
       "      <td>2.000721e+01</td>\n",
       "      <td>1.559499e+01</td>\n",
       "      <td>2.374514e+01</td>\n",
       "      <td>1.201891e+01</td>\n",
       "      <td>7.848392e+00</td>\n",
       "      <td>7.126883e+00</td>\n",
       "      <td>1.052677e+01</td>\n",
       "      <td>8.877742e+00</td>\n",
       "      <td>1.731511e+01</td>\n",
       "      <td>9.253526e+00</td>\n",
       "      <td>5.041069e+00</td>\n",
       "      <td>5.591971e+00</td>\n",
       "      <td>3.942090e+01</td>\n",
       "      <td>2.720284e+01</td>\n",
       "      <td>1.050309e+01</td>\n",
       "      <td>2.252841e+01</td>\n",
       "      <td>4.584549e+00</td>\n",
       "      <td>7.519589e+00</td>\n",
       "      <td>3.517346e+00</td>\n",
       "      <td>3.161220e+01</td>\n",
       "      <td>3.384781e+01</td>\n",
       "      <td>25691.160000</td>\n",
       "      <td>1.000000</td>\n",
       "    </tr>\n",
       "  </tbody>\n",
       "</table>\n",
       "</div>"
      ],
      "text/plain": [
       "                Time            V1  ...         Amount          Class\n",
       "count  284807.000000  2.848070e+05  ...  284807.000000  284807.000000\n",
       "mean    94813.859575  3.919560e-15  ...      88.349619       0.001727\n",
       "std     47488.145955  1.958696e+00  ...     250.120109       0.041527\n",
       "min         0.000000 -5.640751e+01  ...       0.000000       0.000000\n",
       "25%     54201.500000 -9.203734e-01  ...       5.600000       0.000000\n",
       "50%     84692.000000  1.810880e-02  ...      22.000000       0.000000\n",
       "75%    139320.500000  1.315642e+00  ...      77.165000       0.000000\n",
       "max    172792.000000  2.454930e+00  ...   25691.160000       1.000000\n",
       "\n",
       "[8 rows x 31 columns]"
      ]
     },
     "execution_count": 6,
     "metadata": {
      "tags": []
     },
     "output_type": "execute_result"
    }
   ],
   "source": [
    "df.describe()"
   ]
  },
  {
   "cell_type": "code",
   "execution_count": 0,
   "metadata": {
    "colab": {
     "base_uri": "https://localhost:8080/",
     "height": 36
    },
    "colab_type": "code",
    "id": "qKZ2PkBG1rD4",
    "outputId": "0fd47850-77ad-421a-a22d-9733735a8ae0"
   },
   "outputs": [
    {
     "data": {
      "text/plain": [
       "False"
      ]
     },
     "execution_count": 10,
     "metadata": {
      "tags": []
     },
     "output_type": "execute_result"
    }
   ],
   "source": [
    "df.isnull().values.any() #no missing value"
   ]
  },
  {
   "cell_type": "code",
   "execution_count": 0,
   "metadata": {
    "colab": {
     "base_uri": "https://localhost:8080/",
     "height": 129
    },
    "colab_type": "code",
    "id": "JPIYBcav2Ohl",
    "outputId": "b4025077-396b-4ea0-a40a-869bb21e87fc"
   },
   "outputs": [
    {
     "name": "stdout",
     "output_type": "stream",
     "text": [
      "0    284315\n",
      "1       492\n",
      "Name: Class, dtype: int64\n",
      "0    0.998273\n",
      "1    0.001727\n",
      "Name: Class, dtype: float64\n"
     ]
    }
   ],
   "source": [
    "class_count = pd.value_counts(df.Class, sort = True)\n",
    "print(class_count)\n",
    "print(class_count/r)"
   ]
  },
  {
   "cell_type": "markdown",
   "metadata": {},
   "source": [
    "The dataset is highly unbalanced; the fraudulent class only accounts for 0.1727% of the dataset, i.e. there are only 492 frauds out of 284,807 transactions. To investigate if the fraudulent transactions behaved differently, the distribution of the predictor variables were analyzed."
   ]
  },
  {
   "cell_type": "code",
   "execution_count": 0,
   "metadata": {
    "colab": {},
    "colab_type": "code",
    "id": "bmY2kc4D82zD"
   },
   "outputs": [],
   "source": [
    "#split the dataset by label\n",
    "fraud = df[df.Class==1]\n",
    "not_fraud = df[df.Class==0]"
   ]
  },
  {
   "cell_type": "code",
   "execution_count": 0,
   "metadata": {
    "colab": {},
    "colab_type": "code",
    "id": "5S3hMoja2nEq"
   },
   "outputs": [],
   "source": [
    "fraud_time = fraud.Time/3600\n",
    "fraud_time =[int(t-24) if t>=24 else int(t) for t in fraud_time]"
   ]
  },
  {
   "cell_type": "code",
   "execution_count": 0,
   "metadata": {
    "colab": {},
    "colab_type": "code",
    "id": "Rfoe3sB36_8D"
   },
   "outputs": [],
   "source": [
    "nofraud_time = not_fraud.Time/3600\n",
    "nofraud_time =[int(t-24) if t>=24 else int(t) for t in nofraud_time]"
   ]
  },
  {
   "cell_type": "markdown",
   "metadata": {},
   "source": [
    "There is not a significant difference between the transaction amount in general between the two classes when outliers were removed. In the original dataset, the normal transaction amounts have a lot more outliers compared to the fraudulent cases. For anomaly detection, we may consider removing the extreme outliers, however, the trade-off for removing the outliers is the loss of information."
   ]
  },
  {
   "cell_type": "code",
   "execution_count": 0,
   "metadata": {
    "colab": {
     "base_uri": "https://localhost:8080/",
     "height": 300
    },
    "colab_type": "code",
    "id": "kH7We7CgZ8FY",
    "outputId": "9cc89da7-3612-4fa7-b8d1-aa4878858c10"
   },
   "outputs": [
    {
     "data": {
      "text/html": [
       "<div>\n",
       "<style scoped>\n",
       "    .dataframe tbody tr th:only-of-type {\n",
       "        vertical-align: middle;\n",
       "    }\n",
       "\n",
       "    .dataframe tbody tr th {\n",
       "        vertical-align: top;\n",
       "    }\n",
       "\n",
       "    .dataframe thead th {\n",
       "        text-align: right;\n",
       "    }\n",
       "</style>\n",
       "<table border=\"1\" class=\"dataframe\">\n",
       "  <thead>\n",
       "    <tr style=\"text-align: right;\">\n",
       "      <th>Class</th>\n",
       "      <th>0</th>\n",
       "      <th>1</th>\n",
       "    </tr>\n",
       "  </thead>\n",
       "  <tbody>\n",
       "    <tr>\n",
       "      <th>count</th>\n",
       "      <td>284315.000000</td>\n",
       "      <td>492.000000</td>\n",
       "    </tr>\n",
       "    <tr>\n",
       "      <th>mean</th>\n",
       "      <td>88.291022</td>\n",
       "      <td>122.211321</td>\n",
       "    </tr>\n",
       "    <tr>\n",
       "      <th>std</th>\n",
       "      <td>250.105092</td>\n",
       "      <td>256.683288</td>\n",
       "    </tr>\n",
       "    <tr>\n",
       "      <th>min</th>\n",
       "      <td>0.000000</td>\n",
       "      <td>0.000000</td>\n",
       "    </tr>\n",
       "    <tr>\n",
       "      <th>25%</th>\n",
       "      <td>5.650000</td>\n",
       "      <td>1.000000</td>\n",
       "    </tr>\n",
       "    <tr>\n",
       "      <th>50%</th>\n",
       "      <td>22.000000</td>\n",
       "      <td>9.250000</td>\n",
       "    </tr>\n",
       "    <tr>\n",
       "      <th>75%</th>\n",
       "      <td>77.050000</td>\n",
       "      <td>105.890000</td>\n",
       "    </tr>\n",
       "    <tr>\n",
       "      <th>max</th>\n",
       "      <td>25691.160000</td>\n",
       "      <td>2125.870000</td>\n",
       "    </tr>\n",
       "  </tbody>\n",
       "</table>\n",
       "</div>"
      ],
      "text/plain": [
       "Class              0            1\n",
       "count  284315.000000   492.000000\n",
       "mean       88.291022   122.211321\n",
       "std       250.105092   256.683288\n",
       "min         0.000000     0.000000\n",
       "25%         5.650000     1.000000\n",
       "50%        22.000000     9.250000\n",
       "75%        77.050000   105.890000\n",
       "max     25691.160000  2125.870000"
      ]
     },
     "execution_count": 49,
     "metadata": {
      "tags": []
     },
     "output_type": "execute_result"
    }
   ],
   "source": [
    "df.groupby(['Class'])['Amount'].describe().T"
   ]
  },
  {
   "cell_type": "code",
   "execution_count": 0,
   "metadata": {
    "colab": {
     "base_uri": "https://localhost:8080/",
     "height": 502
    },
    "colab_type": "code",
    "id": "iKLlv1dsPu-m",
    "outputId": "8c9eeb70-f2a5-4ba8-ff61-16ae36f63d46"
   },
   "outputs": [
    {
     "data": {
      "image/png": "[encoded data removed]",
      "text/plain": [
       "<Figure size 360x576 with 3 Axes>"
      ]
     },
     "metadata": {
      "tags": []
     },
     "output_type": "display_data"
    }
   ],
   "source": [
    "fig, ax = plt.subplots(3, 1, figsize=(5,8))\n",
    "sns.distplot(df.Amount, ax=ax[0])\n",
    "ax[0].set_ylabel('All')\n",
    "sns.distplot(not_fraud.Amount, ax=ax[1], color='g')\n",
    "ax[1].set_ylabel('Normal')\n",
    "sns.distplot(fraud.Amount, ax=ax[2], color='r')\n",
    "ax[2].set_ylabel('Fraud')\n",
    "plt.show()"
   ]
  },
  {
   "cell_type": "markdown",
   "metadata": {},
   "source": [
    "Though the starting time in the dataset is unknown, we can visualize the time to see if the fraudulent and normal transactions occur during certain time frames. \n",
    "\n",
    "The plot below shows the density plot of the time variable. The bi-modal shape of the distribution is due to the two-day period in the dataset. In each 24-hour period, the number of transactions is the highest in the middle. However, the time of transaction does not appear to matter for the type of transactions."
   ]
  },
  {
   "cell_type": "code",
   "execution_count": 0,
   "metadata": {
    "colab": {
     "base_uri": "https://localhost:8080/",
     "height": 300
    },
    "colab_type": "code",
    "id": "oJq36AD2aOMm",
    "outputId": "47b1b4fe-fce3-4d94-fe73-3070c15c638f"
   },
   "outputs": [
    {
     "data": {
      "text/html": [
       "<div>\n",
       "<style scoped>\n",
       "    .dataframe tbody tr th:only-of-type {\n",
       "        vertical-align: middle;\n",
       "    }\n",
       "\n",
       "    .dataframe tbody tr th {\n",
       "        vertical-align: top;\n",
       "    }\n",
       "\n",
       "    .dataframe thead th {\n",
       "        text-align: right;\n",
       "    }\n",
       "</style>\n",
       "<table border=\"1\" class=\"dataframe\">\n",
       "  <thead>\n",
       "    <tr style=\"text-align: right;\">\n",
       "      <th>Class</th>\n",
       "      <th>0</th>\n",
       "      <th>1</th>\n",
       "    </tr>\n",
       "  </thead>\n",
       "  <tbody>\n",
       "    <tr>\n",
       "      <th>count</th>\n",
       "      <td>284315.000000</td>\n",
       "      <td>492.000000</td>\n",
       "    </tr>\n",
       "    <tr>\n",
       "      <th>mean</th>\n",
       "      <td>94838.202258</td>\n",
       "      <td>80746.806911</td>\n",
       "    </tr>\n",
       "    <tr>\n",
       "      <th>std</th>\n",
       "      <td>47484.015786</td>\n",
       "      <td>47835.365138</td>\n",
       "    </tr>\n",
       "    <tr>\n",
       "      <th>min</th>\n",
       "      <td>0.000000</td>\n",
       "      <td>406.000000</td>\n",
       "    </tr>\n",
       "    <tr>\n",
       "      <th>25%</th>\n",
       "      <td>54230.000000</td>\n",
       "      <td>41241.500000</td>\n",
       "    </tr>\n",
       "    <tr>\n",
       "      <th>50%</th>\n",
       "      <td>84711.000000</td>\n",
       "      <td>75568.500000</td>\n",
       "    </tr>\n",
       "    <tr>\n",
       "      <th>75%</th>\n",
       "      <td>139333.000000</td>\n",
       "      <td>128483.000000</td>\n",
       "    </tr>\n",
       "    <tr>\n",
       "      <th>max</th>\n",
       "      <td>172792.000000</td>\n",
       "      <td>170348.000000</td>\n",
       "    </tr>\n",
       "  </tbody>\n",
       "</table>\n",
       "</div>"
      ],
      "text/plain": [
       "Class              0              1\n",
       "count  284315.000000     492.000000\n",
       "mean    94838.202258   80746.806911\n",
       "std     47484.015786   47835.365138\n",
       "min         0.000000     406.000000\n",
       "25%     54230.000000   41241.500000\n",
       "50%     84711.000000   75568.500000\n",
       "75%    139333.000000  128483.000000\n",
       "max    172792.000000  170348.000000"
      ]
     },
     "execution_count": 50,
     "metadata": {
      "tags": []
     },
     "output_type": "execute_result"
    }
   ],
   "source": [
    "df.groupby(['Class'])['Time'].describe().T"
   ]
  },
  {
   "cell_type": "code",
   "execution_count": 0,
   "metadata": {
    "colab": {
     "base_uri": "https://localhost:8080/",
     "height": 502
    },
    "colab_type": "code",
    "id": "mDksFNhgSuIv",
    "outputId": "ae38f081-8575-4b52-e159-867eaa625341"
   },
   "outputs": [
    {
     "data": {
      "image/png": "[encoded data removed]",
      "text/plain": [
       "<Figure size 360x576 with 3 Axes>"
      ]
     },
     "metadata": {
      "tags": []
     },
     "output_type": "display_data"
    }
   ],
   "source": [
    "fig, ax = plt.subplots(3, 1, figsize=(5,8))\n",
    "sns.distplot(df.Time, ax=ax[0])\n",
    "ax[0].set_ylabel('All')\n",
    "sns.distplot(not_fraud.Time, ax=ax[1], color='g')\n",
    "ax[1].set_ylabel('Normal')\n",
    "sns.distplot(fraud.Time, ax=ax[2], color='r')\n",
    "ax[2].set_ylabel('Fraud')\n",
    "ax = list(map(lambda x: x.set_xlim([-20000, 200000]), ax))\n",
    "#ax[2].set_xlim([-20000, 200000])\n",
    "plt.show()"
   ]
  },
  {
   "cell_type": "code",
   "execution_count": 0,
   "metadata": {
    "colab": {
     "base_uri": "https://localhost:8080/",
     "height": 1000
    },
    "colab_type": "code",
    "id": "lsIlhTrBYS6T",
    "outputId": "27f226cc-69c7-48e9-bc0f-c770c5352d8b"
   },
   "outputs": [
    {
     "name": "stderr",
     "output_type": "stream",
     "text": [
      "/usr/local/lib/python3.6/dist-packages/seaborn/axisgrid.py:715: UserWarning: Using the boxplot function without specifying `order` is likely to produce an incorrect plot.\n",
      "  warnings.warn(warning)\n"
     ]
    },
    {
     "data": {
      "image/png": "[encoded data removed]",
      "text/plain": [
       "<Figure size 1080x1296 with 28 Axes>"
      ]
     },
     "metadata": {
      "tags": []
     },
     "output_type": "display_data"
    }
   ],
   "source": [
    "dfm = df.melt(id_vars=['Class'])\n",
    "cols = df.columns[1:29]\n",
    "g = sns.axisgrid.FacetGrid(dfm[dfm.variable.isin(cols)], col='variable', col_wrap=5, sharey=False)\n",
    "#g = sns.FacetGrid(dfm, col='columns',col_wrap=5)\n",
    "g = (g.map(sns.boxplot,'Class', 'value'))\n",
    "plt.show()"
   ]
  },
  {
   "cell_type": "markdown",
   "metadata": {},
   "source": [
    "The heatmap of the all the variables shows that the variables V1 to V28 are not correlated as expected, since they resulted from a PCA transformation."
   ]
  },
  {
   "cell_type": "code",
   "execution_count": 0,
   "metadata": {
    "colab": {
     "base_uri": "https://localhost:8080/",
     "height": 286
    },
    "colab_type": "code",
    "id": "ocLhazMTiYrf",
    "outputId": "298462b5-dafd-4803-91a8-8dc85f8ac6bf"
   },
   "outputs": [
    {
     "data": {
      "image/png": "[encoded data removed]",
      "text/plain": [
       "<Figure size 432x288 with 2 Axes>"
      ]
     },
     "metadata": {
      "tags": []
     },
     "output_type": "display_data"
    }
   ],
   "source": [
    "corr_matrix = df.corr()\n",
    "sns.heatmap(corr_matrix, vmax=1, square=True)\n",
    "plt.show()"
   ]
  },
  {
   "cell_type": "code",
   "execution_count": 0,
   "metadata": {
    "colab": {},
    "colab_type": "code",
    "id": "qYM-g2Y9eNdp"
   },
   "outputs": [],
   "source": [
    "corr_matrix\n",
    "#V3 and time = -0.419618\n",
    "#V2 and amount = -0.5314089"
   ]
  },
  {
   "cell_type": "code",
   "execution_count": 0,
   "metadata": {
    "colab": {
     "base_uri": "https://localhost:8080/",
     "height": 36
    },
    "colab_type": "code",
    "id": "mvxdPhymAbd_",
    "outputId": "3f91557e-cc5d-4139-89a0-65f548b5a57c"
   },
   "outputs": [
    {
     "data": {
      "text/plain": [
       "275663"
      ]
     },
     "execution_count": 70,
     "metadata": {
      "tags": []
     },
     "output_type": "execute_result"
    }
   ],
   "source": [
    "df.V1.nunique()"
   ]
  },
  {
   "cell_type": "markdown",
   "metadata": {
    "colab_type": "text",
    "id": "7pm92C5hyzIu"
   },
   "source": [
    "### Modeling\n",
    "\n",
    "5 different pre-processing pipelines were evaluated, as shown below. XGBoost models were fitted using the pre-processed data.\n",
    "\n",
    "1.   Standardize (Robust) -> Weighted Classes -> Model\n",
    "2.   Standardize (Robust) -> SMOTE -> Model\n",
    "3.   Standardize -> SMOTE -> Model\n",
    "4.   Standardize(Robust) -> Simple Random Undersample -> Model\n",
    "5.   Standardize(Robust) -> Model\n",
    "\n",
    "Note: Throughout the model fitting process, Pickle was used to save the fitted models.\n",
    "\n",
    "A k-fold cross-validation approach was used to fit the models. The metrics used to evaluate the models were AUC, precision, and recall. The average scores across the cross-validation process at each pipeline were calculated. Here, the cross-validation scores were used to estimate the test scores.  \n"
   ]
  },
  {
   "cell_type": "code",
   "execution_count": 0,
   "metadata": {
    "colab": {
     "base_uri": "https://localhost:8080/",
     "height": 74
    },
    "colab_type": "code",
    "id": "w0fuCuOvxs5O",
    "outputId": "4c5e24b5-e37d-4d05-f1b0-7b63f84f1c66"
   },
   "outputs": [
    {
     "name": "stderr",
     "output_type": "stream",
     "text": [
      "/usr/local/lib/python3.6/dist-packages/sklearn/externals/six.py:31: DeprecationWarning: The module is deprecated in version 0.21 and will be removed in version 0.23 since we've dropped support for Python 2.7. Please rely on the official version of six (https://pypi.org/project/six/).\n",
      "  \"(https://pypi.org/project/six/).\", DeprecationWarning)\n"
     ]
    }
   ],
   "source": [
    "from sklearn.linear_model import LogisticRegression\n",
    "from xgboost import XGBClassifier\n",
    "from sklearn.model_selection import cross_val_score, cross_validate, GridSearchCV\n",
    "from sklearn.metrics import confusion_matrix,precision_recall_curve,auc,roc_auc_score,roc_curve,classification_report\n",
    "from sklearn.preprocessing import StandardScaler, RobustScaler\n",
    "from imblearn.under_sampling import RandomUnderSampler\n",
    "from imblearn.over_sampling import SMOTE, RandomOverSampler\n",
    "from sklearn.model_selection import KFold\n",
    "from imblearn.pipeline import Pipeline"
   ]
  },
  {
   "cell_type": "code",
   "execution_count": 0,
   "metadata": {
    "colab": {},
    "colab_type": "code",
    "id": "QO89v98aTvAz"
   },
   "outputs": [],
   "source": [
    "X = df.drop(['Class'], axis=1, inplace=False)\n",
    "y = df.Class"
   ]
  },
  {
   "cell_type": "code",
   "execution_count": 0,
   "metadata": {
    "colab": {},
    "colab_type": "code",
    "id": "srhiwbqdSs02"
   },
   "outputs": [],
   "source": [
    "#instantiate the xgboost model and definie the pipelines\n",
    "xgb_model = XGBClassifier(random_state=42)\n",
    "xgb_model1 = XGBClassifier(random_state=42, scal_pos_weight=90)\n",
    "undersampler = RandomUnderSampler(random_state=42)\n",
    "smote = SMOTE(random_state=42)\n",
    "\n",
    "#remove outliers from model1\n",
    "model1_steps = [(\"RobustScaler\", RobustScaler()), \n",
    "                (\"xgboost\", xgb_model1)]\n",
    "\n",
    "model2_steps = [(\"RobustScaler\", RobustScaler()), \n",
    "                (\"SMOTE\", smote), \n",
    "                (\"xgboost\", xgb_model)]\n",
    "\n",
    "model3_steps = [(\"StandardScaler\", StandardScaler()), \n",
    "                (\"SMOTE\", smote), \n",
    "                (\"xgboost\", xgb_model)]\n",
    "              \n",
    "model4_steps = [(\"RobustScaler\", RobustScaler()), \n",
    "                (\"UnderSampler\", undersampler), \n",
    "                (\"xgboost\", xgb_model)]\n",
    "\n",
    "model5_steps = [(\"RobustScaler\", RobustScaler()), \n",
    "                (\"xgboost\", xgb_model)]\n",
    "\n",
    "scoring  = {\"Accuracy\": \"accuracy\", \n",
    "            \"Sensitivity\": \"recall\", \n",
    "            \"True Positive Rate\":\"precision\",\n",
    "            \"AUC\":\"roc_auc\"}"
   ]
  },
  {
   "cell_type": "code",
   "execution_count": 0,
   "metadata": {
    "colab": {},
    "colab_type": "code",
    "id": "_7Xhy3Ywr8ay"
   },
   "outputs": [],
   "source": [
    "# Define a function to calculate the average scores\n",
    "def get_avg_score(cv_score):\n",
    "    for key, val in cv_score.items():\n",
    "        print(\"Mean {}: {}\".format(key, np.mean(val)))"
   ]
  },
  {
   "cell_type": "code",
   "execution_count": 0,
   "metadata": {
    "colab": {
     "base_uri": "https://localhost:8080/",
     "height": 204
    },
    "colab_type": "code",
    "id": "19lqr4cVgOha",
    "outputId": "f2eb8d1b-3b35-4b65-db8d-d9061664c8f4"
   },
   "outputs": [
    {
     "data": {
      "text/plain": [
       "{'fit_time': array([54.44827747, 54.49210858, 54.12898326, 54.56128192, 54.42774463]),\n",
       " 'score_time': array([0.70450616, 0.6954546 , 0.75785184, 0.72554588, 0.68797231]),\n",
       " 'test_AUC': array([0.98845301, 0.96678501, 0.98872564, 0.97662576, 0.98289808]),\n",
       " 'test_Accuracy': array([0.99899933, 0.99957867, 0.99929777, 0.99963133, 0.99950844]),\n",
       " 'test_Sensitivity': array([0.87898089, 0.73809524, 0.75630252, 0.70175439, 0.70666667]),\n",
       " 'test_True Positive Rate': array([0.78409091, 0.96875   , 0.89108911, 0.90909091, 0.89830508]),\n",
       " 'train_AUC': array([0.9968605 , 0.99800559, 0.99685148, 0.99760955, 0.99767781]),\n",
       " 'train_Accuracy': array([0.99967083, 0.99966644, 0.99969277, 0.99964889, 0.999684  ]),\n",
       " 'train_Sensitivity': array([0.80597015, 0.84558824, 0.83378016, 0.84597701, 0.84892086]),\n",
       " 'train_True Positive Rate': array([0.96428571, 0.96368715, 0.97492163, 0.96587927, 0.97520661])}"
      ]
     },
     "execution_count": 8,
     "metadata": {
      "tags": []
     },
     "output_type": "execute_result"
    }
   ],
   "source": [
    "#model 5\n",
    "pipeline5 = Pipeline(model5_steps)\n",
    "kf5 = KFold(n_splits=5, random_state=42)\n",
    "cv_score5 = cross_validate(pipeline5, X, y, cv=kf5, scoring=scoring ,return_train_score=True)\n",
    "cv_score5"
   ]
  },
  {
   "cell_type": "code",
   "execution_count": 0,
   "metadata": {
    "colab": {
     "base_uri": "https://localhost:8080/",
     "height": 204
    },
    "colab_type": "code",
    "id": "Qd15Ka7zza20",
    "outputId": "442221ec-acf0-4dc3-8a9f-908c755e40ee"
   },
   "outputs": [
    {
     "name": "stdout",
     "output_type": "stream",
     "text": [
      "Mean fit_time: 54.41167917251587\n",
      "Mean score_time: 0.7142661571502685\n",
      "Mean test_Accuracy: 0.9994031053598098\n",
      "Mean train_Accuracy: 0.9996725852876669\n",
      "Mean test_Sensitivity: 0.7563599406909931\n",
      "Mean train_Sensitivity: 0.8360472840418727\n",
      "Mean test_True Positive Rate: 0.8902652023676945\n",
      "Mean train_True Positive Rate: 0.9687960743759717\n",
      "Mean test_AUC: 0.9806974990109263\n",
      "Mean train_AUC: 0.9974009864614108\n"
     ]
    }
   ],
   "source": [
    "get_avg_score(cv_score5)"
   ]
  },
  {
   "cell_type": "code",
   "execution_count": 0,
   "metadata": {
    "colab": {
     "base_uri": "https://localhost:8080/",
     "height": 204
    },
    "colab_type": "code",
    "id": "5BpUhNpysK6b",
    "outputId": "1fe8d80f-9a87-4da4-e978-4e8154a25d55"
   },
   "outputs": [
    {
     "data": {
      "text/plain": [
       "{'fit_time': array([0.53455997, 0.53406858, 0.51946163, 0.54911709, 0.52849674]),\n",
       " 'score_time': array([0.76194477, 0.81784153, 0.80636191, 0.83091044, 0.84082651]),\n",
       " 'test_AUC': array([0.98813317, 0.95299463, 0.98101652, 0.97724515, 0.99051471]),\n",
       " 'test_Accuracy': array([0.95647976, 0.97784488, 0.96616984, 0.96453714, 0.98182967]),\n",
       " 'test_Sensitivity': array([0.96178344, 0.8452381 , 0.93277311, 0.89473684, 0.88      ]),\n",
       " 'test_True Positive Rate': array([0.05754573, 0.05378788, 0.0546798 , 0.02469734, 0.06043956]),\n",
       " 'train_AUC': array([0.99763369, 0.99874462, 0.99813797, 0.99882449, 0.99882818]),\n",
       " 'train_Accuracy': array([0.96006057, 0.97078277, 0.964239  , 0.97389904, 0.97834502]),\n",
       " 'train_Sensitivity': array([0.99701493, 1.        , 0.99463807, 0.9954023 , 0.99520384]),\n",
       " 'train_True Positive Rate': array([0.03540761, 0.05774947, 0.04355994, 0.06788962, 0.07761362])}"
      ]
     },
     "execution_count": 10,
     "metadata": {
      "tags": []
     },
     "output_type": "execute_result"
    }
   ],
   "source": [
    "#model 4\n",
    "pipeline4 = Pipeline(model4_steps)\n",
    "kf4 = KFold(n_splits=5, random_state=42)\n",
    "cv_score4 = cross_validate(pipeline4, X, y, cv=kf4, scoring=scoring, return_train_score=True)\n",
    "cv_score4"
   ]
  },
  {
   "cell_type": "code",
   "execution_count": 0,
   "metadata": {
    "colab": {
     "base_uri": "https://localhost:8080/",
     "height": 204
    },
    "colab_type": "code",
    "id": "jMX2OGBswGaP",
    "outputId": "8f170d6b-7077-42ef-85d8-5aa0dec61c7c"
   },
   "outputs": [
    {
     "name": "stdout",
     "output_type": "stream",
     "text": [
      "Mean fit_time: 0.5331408023834229\n",
      "Mean score_time: 0.811577033996582\n",
      "Mean test_Accuracy: 0.9693722570719002\n",
      "Mean train_Accuracy: 0.9694652799200657\n",
      "Mean test_Sensitivity: 0.9029062972155005\n",
      "Mean train_Sensitivity: 0.9964518261718517\n",
      "Mean test_True Positive Rate: 0.050230062090432924\n",
      "Mean train_True Positive Rate: 0.05644405108368909\n",
      "Mean test_AUC: 0.9779808359139401\n",
      "Mean train_AUC: 0.9984337905859615\n"
     ]
    }
   ],
   "source": [
    "get_avg_score(cv_score4)"
   ]
  },
  {
   "cell_type": "code",
   "execution_count": 0,
   "metadata": {
    "colab": {
     "base_uri": "https://localhost:8080/",
     "height": 223
    },
    "colab_type": "code",
    "id": "rYNOJzpFsuC1",
    "outputId": "e188108b-f0a0-4cd2-fe2b-996c27068c08"
   },
   "outputs": [
    {
     "data": {
      "text/plain": [
       "{'fit_time': array([119.73437572, 118.54130077, 115.98517585, 114.67794132,\n",
       "        115.78477931]),\n",
       " 'score_time': array([0.8120718 , 0.81647921, 0.83737087, 0.81251621, 0.86215878]),\n",
       " 'test_AUC': array([0.98914428, 0.95531141, 0.97385595, 0.97821107, 0.98250806]),\n",
       " 'test_Accuracy': array([0.98525333, 0.98653488, 0.97482488, 0.98788645, 0.99373255]),\n",
       " 'test_Sensitivity': array([0.93630573, 0.82142857, 0.91596639, 0.84210526, 0.84      ]),\n",
       " 'test_True Positive Rate': array([0.15046059, 0.08404385, 0.07110241, 0.06584362, 0.15441176]),\n",
       " 'train_AUC': array([0.99811055, 0.99918531, 0.99852808, 0.99856296, 0.99804342]),\n",
       " 'train_Accuracy': array([0.98822445, 0.9909061 , 0.98768905, 0.99051552, 0.98954118]),\n",
       " 'train_Sensitivity': array([0.95820896, 0.97794118, 0.95978552, 0.96091954, 0.96402878]),\n",
       " 'train_True Positive Rate': array([0.10735786, 0.16206336, 0.113723  , 0.16315379, 0.14512635])}"
      ]
     },
     "execution_count": 13,
     "metadata": {
      "tags": []
     },
     "output_type": "execute_result"
    }
   ],
   "source": [
    "#model 3\n",
    "pipeline3 = Pipeline(model3_steps)\n",
    "kf3 = KFold(n_splits=5, random_state=42)\n",
    "cv_score3 = cross_validate(pipeline3, X, y, cv=kf3, scoring=scoring, return_train_score=True)\n",
    "cv_score3"
   ]
  },
  {
   "cell_type": "code",
   "execution_count": 0,
   "metadata": {
    "colab": {
     "base_uri": "https://localhost:8080/",
     "height": 204
    },
    "colab_type": "code",
    "id": "BNe6zjtExM-E",
    "outputId": "dc082f11-ed5f-474f-cd0f-3457ff31dcb0"
   },
   "outputs": [
    {
     "name": "stdout",
     "output_type": "stream",
     "text": [
      "Mean fit_time: 116.94471459388733\n",
      "Mean score_time: 0.8281193733215332\n",
      "Mean test_Accuracy: 0.9856464184680407\n",
      "Mean train_Accuracy: 0.9893752614753379\n",
      "Mean test_Sensitivity: 0.871161190725033\n",
      "Mean train_Sensitivity: 0.9641767943381948\n",
      "Mean test_True Positive Rate: 0.10517244845838931\n",
      "Mean train_True Positive Rate: 0.13828487225515182\n",
      "Mean test_AUC: 0.975806154394015\n",
      "Mean train_AUC: 0.9984860630497746\n"
     ]
    }
   ],
   "source": [
    "get_avg_score(cv_score3)"
   ]
  },
  {
   "cell_type": "code",
   "execution_count": 0,
   "metadata": {
    "colab": {
     "base_uri": "https://localhost:8080/",
     "height": 223
    },
    "colab_type": "code",
    "id": "HvQD7heCsy7R",
    "outputId": "cbdab94b-7a2f-4485-d65f-fcfe51642abb"
   },
   "outputs": [
    {
     "data": {
      "text/plain": [
       "{'fit_time': array([120.38875556, 120.29561687, 120.08294082, 118.89263916,\n",
       "        117.93431044]),\n",
       " 'score_time': array([0.83544326, 0.90332913, 0.89504671, 0.87263632, 0.89375138]),\n",
       " 'test_AUC': array([0.98963618, 0.95428457, 0.97625343, 0.97835043, 0.98553048]),\n",
       " 'test_Accuracy': array([0.98456866, 0.98256733, 0.96796053, 0.97363108, 0.99410123]),\n",
       " 'test_Sensitivity': array([0.94267516, 0.82142857, 0.92436975, 0.89473684, 0.82666667]),\n",
       " 'test_True Positive Rate': array([0.1453831 , 0.06590258, 0.05711319, 0.03296703, 0.16103896]),\n",
       " 'train_AUC': array([0.99818359, 0.99899347, 0.99861945, 0.99858937, 0.99859745]),\n",
       " 'train_Accuracy': array([0.98790406, 0.99021264, 0.98831228, 0.9900898 , 0.98922079]),\n",
       " 'train_Sensitivity': array([0.95820896, 0.96813725, 0.97319035, 0.95632184, 0.96402878]),\n",
       " 'train_True Positive Rate': array([0.10479922, 0.15122511, 0.12035809, 0.1566855 , 0.14139993])}"
      ]
     },
     "execution_count": 17,
     "metadata": {
      "tags": []
     },
     "output_type": "execute_result"
    }
   ],
   "source": [
    "#model 2\n",
    "pipeline2 = Pipeline(model2_steps)\n",
    "kf2 = KFold(n_splits=5, random_state=42)\n",
    "cv_score2 = cross_validate(pipeline2, X, y, cv=kf2, scoring=scoring, return_train_score=True)\n",
    "cv_score2"
   ]
  },
  {
   "cell_type": "code",
   "execution_count": 0,
   "metadata": {
    "colab": {
     "base_uri": "https://localhost:8080/",
     "height": 204
    },
    "colab_type": "code",
    "id": "mefaPvJ9xJMN",
    "outputId": "55654279-c32a-4924-f36b-6da136a99eb5"
   },
   "outputs": [
    {
     "name": "stdout",
     "output_type": "stream",
     "text": [
      "Mean fit_time: 119.51885256767272\n",
      "Mean score_time: 0.8800413608551025\n",
      "Mean test_Accuracy: 0.9805657655729872\n",
      "Mean train_Accuracy: 0.9891479140443125\n",
      "Mean test_Sensitivity: 0.8819753974670659\n",
      "Mean train_Sensitivity: 0.9639774349420375\n",
      "Mean test_True Positive Rate: 0.09248097297652035\n",
      "Mean train_True Positive Rate: 0.13489357004096142\n",
      "Mean test_AUC: 0.9768110167228905\n",
      "Mean train_AUC: 0.9985966653835984\n"
     ]
    }
   ],
   "source": [
    "get_avg_score(cv_score2)"
   ]
  },
  {
   "cell_type": "code",
   "execution_count": 0,
   "metadata": {
    "colab": {
     "base_uri": "https://localhost:8080/",
     "height": 204
    },
    "colab_type": "code",
    "id": "_kUlNxwVsnnA",
    "outputId": "5ce13bab-6c09-4bfc-fca2-3580ce672932"
   },
   "outputs": [
    {
     "data": {
      "text/plain": [
       "{'fit_time': array([54.48619366, 54.40114951, 54.68480158, 54.78532338, 54.42747617]),\n",
       " 'score_time': array([0.72164512, 0.69928908, 0.75561619, 0.71442771, 0.67662001]),\n",
       " 'test_AUC': array([0.98845301, 0.96678501, 0.98872564, 0.97662576, 0.98289808]),\n",
       " 'test_Accuracy': array([0.99899933, 0.99957867, 0.99929777, 0.99963133, 0.99950844]),\n",
       " 'test_Sensitivity': array([0.87898089, 0.73809524, 0.75630252, 0.70175439, 0.70666667]),\n",
       " 'test_True Positive Rate': array([0.78409091, 0.96875   , 0.89108911, 0.90909091, 0.89830508]),\n",
       " 'train_AUC': array([0.9968605 , 0.99800559, 0.99685148, 0.99760955, 0.99767781]),\n",
       " 'train_Accuracy': array([0.99967083, 0.99966644, 0.99969277, 0.99964889, 0.999684  ]),\n",
       " 'train_Sensitivity': array([0.80597015, 0.84558824, 0.83378016, 0.84597701, 0.84892086]),\n",
       " 'train_True Positive Rate': array([0.96428571, 0.96368715, 0.97492163, 0.96587927, 0.97520661])}"
      ]
     },
     "execution_count": 28,
     "metadata": {
      "tags": []
     },
     "output_type": "execute_result"
    }
   ],
   "source": [
    "#model 1\n",
    "pipeline1 = Pipeline(model1_steps)\n",
    "kf1 = KFold(n_splits=5, random_state=42)\n",
    "cv_score1 = cross_validate(pipeline1, X, y, cv=kf1, scoring=scoring, return_train_score=True)\n",
    "cv_score1"
   ]
  },
  {
   "cell_type": "code",
   "execution_count": 0,
   "metadata": {
    "colab": {
     "base_uri": "https://localhost:8080/",
     "height": 204
    },
    "colab_type": "code",
    "id": "e0uX2eyuxQko",
    "outputId": "96816358-485f-4abe-9dd5-79c2dc100efc"
   },
   "outputs": [
    {
     "name": "stdout",
     "output_type": "stream",
     "text": [
      "Mean fit_time: 54.556988859176634\n",
      "Mean score_time: 0.7135196208953858\n",
      "Mean test_Accuracy: 0.9994031053598098\n",
      "Mean train_Accuracy: 0.9996725852876669\n",
      "Mean test_Sensitivity: 0.7563599406909931\n",
      "Mean train_Sensitivity: 0.8360472840418727\n",
      "Mean test_True Positive Rate: 0.8902652023676945\n",
      "Mean train_True Positive Rate: 0.9687960743759717\n",
      "Mean test_AUC: 0.9806974990109263\n",
      "Mean train_AUC: 0.9974009864614108\n"
     ]
    }
   ],
   "source": [
    "get_avg_score(cv_score1)"
   ]
  },
  {
   "cell_type": "markdown",
   "metadata": {},
   "source": [
    "Based on the result above, models 2, 5, and 6 had the best performance. Next, we perform a grid search to find the optimal values for the hyperparameters:\n",
    "\n",
    "- Learning Rate: Parameter related to optimization algorithm\n",
    "- Max Depth: Maximum tree depth for base learners\n",
    "- Min Child Weight: Minimum sum of instance weight(hessian) needed in a child"
   ]
  },
  {
   "cell_type": "code",
   "execution_count": 0,
   "metadata": {
    "colab": {
     "base_uri": "https://localhost:8080/",
     "height": 561
    },
    "colab_type": "code",
    "id": "eiSfY2qC0AJv",
    "outputId": "916ec7e0-0ad1-48b7-c4a7-93378d9084d7"
   },
   "outputs": [
    {
     "data": {
      "text/plain": [
       "GridSearchCV(cv=5, error_score='raise-deprecating',\n",
       "             estimator=Pipeline(memory=None,\n",
       "                                steps=[('RobustScaler',\n",
       "                                        RobustScaler(copy=True,\n",
       "                                                     quantile_range=(25.0,\n",
       "                                                                     75.0),\n",
       "                                                     with_centering=True,\n",
       "                                                     with_scaling=True)),\n",
       "                                       ('xgboost',\n",
       "                                        XGBClassifier(base_score=0.5,\n",
       "                                                      booster='gbtree',\n",
       "                                                      colsample_bylevel=1,\n",
       "                                                      colsample_bynode=1,\n",
       "                                                      colsample_bytree=1,\n",
       "                                                      gamma=0,\n",
       "                                                      learning_rate=0.1,\n",
       "                                                      max_delta_step=...\n",
       "             param_grid={'xgboost__colsample_bytree': [0.8],\n",
       "                         'xgboost__eval_metric': ['auc'],\n",
       "                         'xgboost__learning_rate': [0.05],\n",
       "                         'xgboost__max_depth': range(3, 10, 2),\n",
       "                         'xgboost__min_child_weight': range(1, 6, 2),\n",
       "                         'xgboost__subsample': [0.8]},\n",
       "             pre_dispatch='2*n_jobs', refit='AUC', return_train_score=True,\n",
       "             scoring={'AUC': 'roc_auc', 'Accuracy': 'accuracy',\n",
       "                      'Sensitivity': 'recall',\n",
       "                      'True Positive Rate': 'precision'},\n",
       "             verbose=0)"
      ]
     },
     "execution_count": 61,
     "metadata": {
      "tags": []
     },
     "output_type": "execute_result"
    }
   ],
   "source": [
    "#model 5\n",
    "parameters = {'xgboost__learning_rate':[0.05],\n",
    "              'xgboost__max_depth':range(3,10,2),\n",
    "              'xgboost__min_child_weight':range(1,6,2),\n",
    "              'xgboost__subsample':[0.8],\n",
    "              'xgboost__colsample_bytree':[0.8], \n",
    "              'xgboost__eval_metric':['auc']}\n",
    "pipeline5 = Pipeline(model5_steps)\n",
    "gridsearch5 = GridSearchCV(pipeline5, param_grid=parameters, cv=5,  return_train_score=True, scoring=scoring, refit='AUC')\n",
    "gridsearch5.fit(X,y)"
   ]
  },
  {
   "cell_type": "code",
   "execution_count": 0,
   "metadata": {
    "colab": {},
    "colab_type": "code",
    "id": "_ZQi7_I8cfi5"
   },
   "outputs": [],
   "source": [
    "# Use pickle to save model \n",
    "#import pickle\n",
    "#path = '/content/drive/My Drive/Data Mining 1/gridsearch5.pickle'\n",
    "#with open(path, 'wb') as f:\n",
    "#  pickle.dump(gridsearch5, f)\n",
    "#with open(path, 'rb') as f:\n",
    "#    gridsearch5 = pickle.load(f)"
   ]
  },
  {
   "cell_type": "code",
   "execution_count": 0,
   "metadata": {
    "colab": {
     "base_uri": "https://localhost:8080/",
     "height": 561
    },
    "colab_type": "code",
    "id": "MfLKFxcXunvT",
    "outputId": "8911f0bb-1ade-4d79-9577-2acd491c82a0"
   },
   "outputs": [
    {
     "data": {
      "text/plain": [
       "GridSearchCV(cv=5, error_score='raise-deprecating',\n",
       "             estimator=Pipeline(memory=None,\n",
       "                                steps=[('RobustScaler',\n",
       "                                        RobustScaler(copy=True,\n",
       "                                                     quantile_range=(25.0,\n",
       "                                                                     75.0),\n",
       "                                                     with_centering=True,\n",
       "                                                     with_scaling=True)),\n",
       "                                       ('xgboost',\n",
       "                                        XGBClassifier(base_score=0.5,\n",
       "                                                      booster='gbtree',\n",
       "                                                      colsample_bylevel=1,\n",
       "                                                      colsample_bynode=1,\n",
       "                                                      colsample_bytree=1,\n",
       "                                                      gamma=0,\n",
       "                                                      learning_rate=0.1,\n",
       "                                                      max_delta_step=...\n",
       "                         'xgboost__eval_metric': ['auc'],\n",
       "                         'xgboost__learning_rate': [0.05],\n",
       "                         'xgboost__max_depth': range(3, 10, 2),\n",
       "                         'xgboost__min_child_weight': range(1, 6, 2),\n",
       "                         'xgboost__scale_pos_weight': [90, 9],\n",
       "                         'xgboost__subsample': [0.8]},\n",
       "             pre_dispatch='2*n_jobs', refit='AUC', return_train_score=True,\n",
       "             scoring={'AUC': 'roc_auc', 'Accuracy': 'accuracy',\n",
       "                      'Sensitivity': 'recall',\n",
       "                      'True Positive Rate': 'precision'},\n",
       "             verbose=0)"
      ]
     },
     "execution_count": 18,
     "metadata": {
      "tags": []
     },
     "output_type": "execute_result"
    }
   ],
   "source": [
    "#model 6\n",
    "parameters = {'xgboost__learning_rate':[0.05],\n",
    "              'xgboost__max_depth':range(3,10,2),\n",
    "              'xgboost__min_child_weight':range(1,6,2),\n",
    "              'xgboost__subsample':[0.8],\n",
    "              'xgboost__colsample_bytree':[0.8], \n",
    "              'xgboost__eval_metric':['auc'],\n",
    "              'xgboost__scale_pos_weight':[90,9]}\n",
    "pipeline6 = Pipeline(model6_steps)\n",
    "gridsearch6 = GridSearchCV(pipeline6, param_grid=parameters, cv=5,return_train_score=True, scoring=scoring, refit='AUC')\n",
    "gridsearch6.fit(X,y)"
   ]
  },
  {
   "cell_type": "code",
   "execution_count": 0,
   "metadata": {
    "colab": {},
    "colab_type": "code",
    "id": "YgMh6Jh2QR66"
   },
   "outputs": [],
   "source": [
    "#import pickle\n",
    "#path = '/content/drive/My Drive/Data Mining 1/gridsearch6.pickle'\n",
    "#with open(path, 'wb') as f:\n",
    "#   pickle.dump(gridsearch6, f)\n",
    "#with open(path, 'rb') as f:\n",
    "    gridsearch6 = pickle.load(f)"
   ]
  },
  {
   "cell_type": "code",
   "execution_count": 0,
   "metadata": {
    "colab": {
     "base_uri": "https://localhost:8080/",
     "height": 167
    },
    "colab_type": "code",
    "id": "g-ClzrNPydP3",
    "outputId": "b50723bf-296e-4e84-8381-cb8ca62cd77f"
   },
   "outputs": [
    {
     "name": "stdout",
     "output_type": "stream",
     "text": [
      "Mean fit_time: 50.431293964385986\n",
      "Mean score_time: 0.9994587103525797\n",
      "Mean test_Accuracy: 0.9989010116494429\n",
      "Mean train_Accuracy: 0.9990660341607492\n",
      "Mean test_Sensitivity: 0.8307175387929423\n",
      "Mean train_Sensitivity: 0.9860418101126066\n",
      "Mean test_True Positive Rate: 0.6491951320745366\n",
      "Mean train_True Positive Rate: 0.6538113308349244\n"
     ]
    }
   ],
   "source": [
    "get_avg_score(cv_score6)"
   ]
  },
  {
   "cell_type": "code",
   "execution_count": 0,
   "metadata": {
    "colab": {
     "base_uri": "https://localhost:8080/",
     "height": 167
    },
    "colab_type": "code",
    "id": "pGlSNKnVYi9W",
    "outputId": "1f16e9fd-6ab9-4eef-f14a-ba7534f0b180"
   },
   "outputs": [
    {
     "data": {
      "text/plain": [
       "{'fit_time': array([105.65234661, 106.63710189, 104.63247538]),\n",
       " 'score_time': array([1.05316067, 1.09394336, 1.06701612]),\n",
       " 'test_Accuracy': array([0.98923485, 0.98363108, 0.99785116]),\n",
       " 'test_Sensitivity': array([0.9124424 , 0.86928105, 0.79508197]),\n",
       " 'test_True Positive Rate': array([0.16486261, 0.07978404, 0.35144928]),\n",
       " 'train_Accuracy': array([0.98832365, 0.99018808, 0.99113613]),\n",
       " 'train_Sensitivity': array([0.97090909, 0.98525074, 0.97297297]),\n",
       " 'train_True Positive Rate': array([0.10783522, 0.15237226, 0.17707821])}"
      ]
     },
     "execution_count": 16,
     "metadata": {
      "tags": []
     },
     "output_type": "execute_result"
    }
   ],
   "source": [
    "#model 2\n",
    "pipeline2 = Pipeline(model2_steps)\n",
    "kf2 = KFold(n_splits=3, random_state=42)\n",
    "cv_score2 = cross_validate(pipeline2, X, y, cv=kf2, scoring=scoring, return_train_score=True)\n",
    "cv_score2"
   ]
  },
  {
   "cell_type": "code",
   "execution_count": 0,
   "metadata": {
    "colab": {
     "base_uri": "https://localhost:8080/",
     "height": 523
    },
    "colab_type": "code",
    "id": "PSjt8l7Yr8HK",
    "outputId": "2cd35021-13c5-4dc0-fd00-f1cd1ee146d2"
   },
   "outputs": [
    {
     "data": {
      "text/plain": [
       "GridSearchCV(cv=5, error_score='raise-deprecating',\n",
       "             estimator=Pipeline(memory=None,\n",
       "                                steps=[('RobustScaler',\n",
       "                                        RobustScaler(copy=True,\n",
       "                                                     quantile_range=(25.0,\n",
       "                                                                     75.0),\n",
       "                                                     with_centering=True,\n",
       "                                                     with_scaling=True)),\n",
       "                                       ('SMOTE',\n",
       "                                        SMOTE(k_neighbors=5, kind='deprecated',\n",
       "                                              m_neighbors='deprecated',\n",
       "                                              n_jobs=1, out_step='deprecated',\n",
       "                                              random_state=42, ratio=None,\n",
       "                                              sampling_strategy='auto',\n",
       "                                              s...\n",
       "             param_grid={'xgboost__colsample_bytree': [0.8],\n",
       "                         'xgboost__eval_metric': ['auc'],\n",
       "                         'xgboost__learning_rate': [0.05],\n",
       "                         'xgboost__max_depth': range(3, 10, 2),\n",
       "                         'xgboost__min_child_weight': range(1, 6, 2),\n",
       "                         'xgboost__subsample': [0.8]},\n",
       "             pre_dispatch='2*n_jobs', refit='AUC', return_train_score=True,\n",
       "             scoring={'AUC': 'roc_auc', 'Accuracy': 'accuracy',\n",
       "                      'Sensitivity': 'recall',\n",
       "                      'True Positive Rate': 'precision'},\n",
       "             verbose=0)"
      ]
     },
     "execution_count": 14,
     "metadata": {
      "tags": []
     },
     "output_type": "execute_result"
    }
   ],
   "source": [
    "parameters = {'xgboost__learning_rate':[0.05],\n",
    "              'xgboost__max_depth':range(3,10,2),\n",
    "              'xgboost__min_child_weight':range(1,6,2),\n",
    "              'xgboost__subsample':[0.8],\n",
    "              'xgboost__colsample_bytree':[0.8], \n",
    "              'xgboost__eval_metric':['auc']}\n",
    "pipeline2 = Pipeline(model2_steps)\n",
    "gridsearch2 = GridSearchCV(pipeline2, param_grid=parameters, cv=5, return_train_score=True,scoring=scoring, refit='AUC')\n",
    "gridsearch2.fit(X,y)"
   ]
  },
  {
   "cell_type": "code",
   "execution_count": 0,
   "metadata": {
    "colab": {},
    "colab_type": "code",
    "id": "ChzxmPmkvvpy"
   },
   "outputs": [],
   "source": [
    "#import pickle\n",
    "path = '/content/drive/My Drive/Data Mining 1/gridsearch2.pickle'\n",
    "with open(path, 'wb') as f:\n",
    "   pickle.dump(gridsearch2, f)\n",
    "#with open(path, 'rb') as f:\n",
    "#    gridsearch2 = pickle.load(f)"
   ]
  },
  {
   "cell_type": "code",
   "execution_count": 0,
   "metadata": {
    "colab": {
     "base_uri": "https://localhost:8080/",
     "height": 167
    },
    "colab_type": "code",
    "id": "Zg44b3DuVVPW",
    "outputId": "83058b8a-fa7c-40c0-95b6-24037b27aad0"
   },
   "outputs": [
    {
     "data": {
      "text/plain": [
       "{'fit_time': array([105.64349246, 106.42209744, 103.85131478]),\n",
       " 'score_time': array([1.03961253, 1.07889318, 1.0885818 ]),\n",
       " 'test_Accuracy': array([0.98918219, 0.98322027, 0.99796703]),\n",
       " 'test_Sensitivity': array([0.9078341 , 0.8627451 , 0.80327869]),\n",
       " 'test_True Positive Rate': array([0.16362126, 0.07746479, 0.3670412 ]),\n",
       " 'train_Accuracy': array([0.98905573, 0.98934013, 0.99086753]),\n",
       " 'train_Sensitivity': array([0.96727273, 0.98230088, 0.97027027]),\n",
       " 'train_True Positive Rate': array([0.11391863, 0.14164185, 0.17243036])}"
      ]
     },
     "execution_count": 19,
     "metadata": {
      "tags": []
     },
     "output_type": "execute_result"
    }
   ],
   "source": [
    "#model 3\n",
    "pipeline3 = Pipeline(model3_steps)\n",
    "kf3 = KFold(n_splits=3, random_state=42)\n",
    "cv_score3 = cross_validate(pipeline3, X, y, cv=kf3, scoring=scoring, return_train_score=True)\n",
    "cv_score3"
   ]
  },
  {
   "cell_type": "markdown",
   "metadata": {
    "colab_type": "text",
    "id": "NNur6f3asRVA"
   },
   "source": [
    "### Model Evaluation"
   ]
  },
  {
   "cell_type": "code",
   "execution_count": 0,
   "metadata": {
    "colab": {},
    "colab_type": "code",
    "id": "0VccCpyhsTZq"
   },
   "outputs": [],
   "source": [
    "#gridsearch5.grid_scores_\n",
    "result6=gridsearch6.cv_results_"
   ]
  },
  {
   "cell_type": "code",
   "execution_count": 0,
   "metadata": {
    "colab": {},
    "colab_type": "code",
    "id": "EwDJCkolYlqb"
   },
   "outputs": [],
   "source": [
    " def plot_score(gridsearch, parameter):\n",
    "        plt.figure(figsize=(13, 13))\n",
    "        plt.title(\"GridSearchCV evaluating using multiple scorers simultaneously\", fontsize=16)\n",
    "        result = gridsearch.cv_results_\n",
    "        plt.xlabel(parameter)\n",
    "        plt.ylabel(\"Score\")\n",
    "\n",
    "    ax = plt.gca()\n",
    "    ax.set_xlim(0, 10)\n",
    "    ax.set_ylim(0.5, 1)\n",
    "\n",
    "    # Get the regular numpy array from the MaskedArray\n",
    "    X_axis = np.array(result['param_xgboost__'+parameter].data, dtype=float)\n",
    "\n",
    "    for scorer, color in zip(sorted(scoring), ['g', 'k']):\n",
    "        for sample, style in (('train', '--'), ('test', '-')):\n",
    "            sample_score_mean = result['mean_%s_%s' % (sample, scorer)]\n",
    "            sample_score_std = result['std_%s_%s' % (sample, scorer)]\n",
    "            ax.fill_between(X_axis, sample_score_mean - sample_score_std,\n",
    "                          sample_score_mean + sample_score_std,\n",
    "                          alpha=0.1 if sample == 'test' else 0, color=color)\n",
    "            ax.plot(X_axis, sample_score_mean, style, color=color,\n",
    "                  alpha=1 if sample == 'test' else 0.7,\n",
    "                  label=\"%s (%s)\" % (scorer, sample))\n",
    "\n",
    "        best_index = np.nonzero(result['rank_test_%s' % scorer] == 1)[0][0]\n",
    "        best_score = result['mean_test_%s' % scorer][best_index]\n",
    "\n",
    "        # Plot a dotted vertical line at the best score for that scorer marked by x\n",
    "        ax.plot([X_axis[best_index], ] * 2, [0, best_score],\n",
    "              linestyle='-.', color=color, marker='x', markeredgewidth=3, ms=8)\n",
    "\n",
    "        # Annotate the best score for that scorer\n",
    "        ax.annotate(\"%0.2f\" % best_score,\n",
    "                  (X_axis[best_index], best_score + 0.005))\n",
    "\n",
    "    plt.legend(loc=\"best\")\n",
    "    plt.grid(False)\n",
    "    plt.show()"
   ]
  },
  {
   "cell_type": "code",
   "execution_count": 0,
   "metadata": {
    "colab": {},
    "colab_type": "code",
    "id": "FmwOlimidet_"
   },
   "outputs": [],
   "source": [
    "def get_summary(gridsearch):\n",
    "    result = gridsearch.cv_results_\n",
    "    df = dict(mean_fit_time=np.mean(result['mean_fit_time']),\n",
    "            mean_score_time=np.mean(result['mean_score_time']),\n",
    "            mean_AUC_train=np.mean(result['mean_train_AUC']),\n",
    "            mean_AUC_test=np.mean(result['mean_test_AUC']),\n",
    "            mean_Sensitivity_train=np.mean(result['mean_train_Sensitivity']),\n",
    "            mean_Sensitivity_test=np.mean(result['mean_test_Sensitivity']),\n",
    "            mean_True_Positive_Rate_train=np.mean(result['mean_train_True Positive Rate']),\n",
    "            mean_True_Positive_Rate_test=np.mean(result['mean_test_True Positive Rate']))\n",
    "    return(df)"
   ]
  },
  {
   "cell_type": "code",
   "execution_count": 0,
   "metadata": {
    "colab": {
     "base_uri": "https://localhost:8080/",
     "height": 167
    },
    "colab_type": "code",
    "id": "qING2PvEvLmx",
    "outputId": "df51d1aa-988d-41ea-cac3-6f4af4cc27d6"
   },
   "outputs": [
    {
     "data": {
      "text/plain": [
       "{'mean_AUC_test': 0.9711362423754047,\n",
       " 'mean_AUC_train': 0.9989244673835312,\n",
       " 'mean_Sensitivity_test': 0.8317260006227697,\n",
       " 'mean_Sensitivity_train': 0.9470033970111468,\n",
       " 'mean_True_Positive_Rate_test': 0.644547639768463,\n",
       " 'mean_True_Positive_Rate_train': 0.8599479068096922,\n",
       " 'mean_fit_time': 87.87762895226479,\n",
       " 'mean_score_time': 1.2907476564248401}"
      ]
     },
     "execution_count": 57,
     "metadata": {
      "tags": []
     },
     "output_type": "execute_result"
    }
   ],
   "source": [
    "get_summary(gridsearch6)"
   ]
  },
  {
   "cell_type": "code",
   "execution_count": 0,
   "metadata": {
    "colab": {
     "base_uri": "https://localhost:8080/",
     "height": 167
    },
    "colab_type": "code",
    "id": "bivEHRuQ3muP",
    "outputId": "18438369-1214-40cd-94a4-3153a155ded6"
   },
   "outputs": [
    {
     "data": {
      "text/plain": [
       "{'mean_AUC_test': 0.9644571015666082,\n",
       " 'mean_AUC_train': 0.9863418754865045,\n",
       " 'mean_Sensitivity_test': 0.7757941523864588,\n",
       " 'mean_Sensitivity_train': 0.8343370446433567,\n",
       " 'mean_True_Positive_Rate_test': 0.8340786733141231,\n",
       " 'mean_True_Positive_Rate_train': 0.9788130250229975,\n",
       " 'mean_fit_time': 66.28847371737163,\n",
       " 'mean_score_time': 0.6250222921371461}"
      ]
     },
     "execution_count": 10,
     "metadata": {
      "tags": []
     },
     "output_type": "execute_result"
    }
   ],
   "source": [
    "get_summary(gridsearch5)"
   ]
  },
  {
   "cell_type": "code",
   "execution_count": 0,
   "metadata": {
    "colab": {
     "base_uri": "https://localhost:8080/",
     "height": 167
    },
    "colab_type": "code",
    "id": "gOrQWD5jnjZg",
    "outputId": "e5fe2965-20b8-40a4-fab8-6032255e94ac"
   },
   "outputs": [
    {
     "data": {
      "text/plain": [
       "{'mean_AUC_test': 0.9726494202424797,\n",
       " 'mean_AUC_train': 0.9987605456915946,\n",
       " 'mean_Sensitivity_test': 0.8730283788476704,\n",
       " 'mean_Sensitivity_train': 0.9784852731601675,\n",
       " 'mean_True_Positive_Rate_test': 0.19668549074666233,\n",
       " 'mean_True_Positive_Rate_train': 0.3058791472896693,\n",
       " 'mean_fit_time': 177.5337320327759,\n",
       " 'mean_score_time': 1.2708519776662193}"
      ]
     },
     "execution_count": 16,
     "metadata": {
      "tags": []
     },
     "output_type": "execute_result"
    }
   ],
   "source": [
    "get_summary(gridsearch2)"
   ]
  }
 ],
 "metadata": {
  "accelerator": "GPU",
  "colab": {
   "collapsed_sections": [],
   "name": "Final Project",
   "provenance": []
  },
  "kernelspec": {
   "display_name": "Python 3",
   "language": "python",
   "name": "python3"
  },
  "language_info": {
   "codemirror_mode": {
    "name": "ipython",
    "version": 3
   },
   "file_extension": ".py",
   "mimetype": "text/x-python",
   "name": "python",
   "nbconvert_exporter": "python",
   "pygments_lexer": "ipython3",
   "version": "3.7.3"
  }
 },
 "nbformat": 4,
 "nbformat_minor": 1
}
